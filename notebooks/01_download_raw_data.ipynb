{
 "cells": [
  {
   "cell_type": "code",
   "execution_count": 2,
   "metadata": {},
   "outputs": [],
   "source": [
    "import calendar\n",
    "from dotenv import load_dotenv\n",
    "import os\n",
    "# from pathlib import Path\n",
    "import requests\n",
    "import pandas as pd\n",
    "\n",
    "from src.paths import PARENT_DIR, DATA_DIR, RAW_DATA_DIR\n",
    "\n",
    "load_dotenv(PARENT_DIR / \".env\")\n",
    "EIA_API_KEY = os.environ[\"EIA_API_KEY\"]\n",
    "\n",
    "\n",
    "def download_raw_data(year: int, month: int):\n",
    "    file_path = DATA_DIR / RAW_DATA_DIR / f\"demand_{year}_{month}.csv\"\n",
    "    if file_path.exists():\n",
    "        print(f\"File demand_{year}_{month}.csv exists locally already, try next URL\")\n",
    "    else:\n",
    "        # Need the number of days in the current (year, month)\n",
    "        _, num_days = calendar.monthrange(year, month)    \n",
    "\n",
    "        URL = (\n",
    "            \"https://api.eia.gov/v2/electricity/rto/daily-region-data/data/\"\n",
    "            \"?frequency=daily\"\n",
    "            \"&data[0]=value\"\n",
    "            \"&facets[timezone][]=Eastern\"\n",
    "            \"&facets[type][]=D\"\n",
    "            f\"&start={year}-{month:02d}-01\"\n",
    "            f\"&end={year}-{month:02d}-{num_days}\"\n",
    "            \"&sort[0][column]=period\"\n",
    "            \"&sort[0][direction]=desc\"\n",
    "            \"&offset=0\"\n",
    "            \"&length=5000\"\n",
    "            f\"&api_key={EIA_API_KEY}\"\n",
    "        )\n",
    "\n",
    "        response = requests.get(url=URL).json()[\"response\"][\"data\"]\n",
    "        data = pd.DataFrame(response)\n",
    "\n",
    "        # Tidies dataframe and saves to csv\n",
    "        data = data[[\"period\", \"respondent\", \"value\"]].copy()\n",
    "        data.rename(\n",
    "            columns={\n",
    "                \"period\": \"datetime\",\n",
    "                \"value\": \"demand\",\n",
    "                \"respondent\": \"ba_code\",\n",
    "            },\n",
    "            inplace=True,\n",
    "        )\n",
    "\n",
    "        data.to_csv(file_path, index=False)\n",
    "        print(f\"Data for {year}_{month} successfully downloaded to demand_{year}_{month}.csv\")\n",
    "\n",
    "# download_raw_data(2024, 2)"
   ]
  },
  {
   "cell_type": "code",
   "execution_count": 3,
   "metadata": {},
   "outputs": [
    {
     "name": "stdout",
     "output_type": "stream",
     "text": [
      "Data for 2023_1 successfully downloaded to demand_2023_1.csv\n",
      "Data for 2023_2 successfully downloaded to demand_2023_2.csv\n",
      "Data for 2023_3 successfully downloaded to demand_2023_3.csv\n",
      "Data for 2023_4 successfully downloaded to demand_2023_4.csv\n",
      "Data for 2023_5 successfully downloaded to demand_2023_5.csv\n",
      "Data for 2023_6 successfully downloaded to demand_2023_6.csv\n",
      "Data for 2023_7 successfully downloaded to demand_2023_7.csv\n",
      "Data for 2023_8 successfully downloaded to demand_2023_8.csv\n",
      "Data for 2023_9 successfully downloaded to demand_2023_9.csv\n",
      "Data for 2023_10 successfully downloaded to demand_2023_10.csv\n",
      "Data for 2023_11 successfully downloaded to demand_2023_11.csv\n",
      "Data for 2023_12 successfully downloaded to demand_2023_12.csv\n",
      "\n",
      "Data for 2023 finished downloading\n",
      "\n",
      "Data for 2024_1 successfully downloaded to demand_2024_1.csv\n",
      "File demand_2024_2.csv exists locally already, try next URL\n",
      "Data for 2024_3 successfully downloaded to demand_2024_3.csv\n",
      "Data for 2024_4 successfully downloaded to demand_2024_4.csv\n",
      "Data for 2024_5 successfully downloaded to demand_2024_5.csv\n",
      "Data for 2024_6 successfully downloaded to demand_2024_6.csv\n",
      "Data for 2024_7 successfully downloaded to demand_2024_7.csv\n",
      "Data for 2024_8 successfully downloaded to demand_2024_8.csv\n",
      "Data for 2024_9 successfully downloaded to demand_2024_9.csv\n",
      "Data for 2024_10 successfully downloaded to demand_2024_10.csv\n",
      "\n",
      "Data for 2024 finished downloading\n",
      "\n"
     ]
    }
   ],
   "source": [
    "# Download raw data from 1 January 2023 to 31 October 2024, about two years worth\n",
    "year = 2023\n",
    "for month in range(1, 13):\n",
    "    download_raw_data(year, month)\n",
    "\n",
    "print(f\"\\nData for {year} finished downloading\\n\")\n",
    "\n",
    "year = 2024\n",
    "for month in range(1, 11):\n",
    "    download_raw_data(year, month)\n",
    "\n",
    "print(f\"\\nData for {year} finished downloading\\n\")"
   ]
  },
  {
   "cell_type": "code",
   "execution_count": null,
   "metadata": {},
   "outputs": [],
   "source": []
  }
 ],
 "metadata": {
  "kernelspec": {
   "display_name": ".venv",
   "language": "python",
   "name": "python3"
  },
  "language_info": {
   "codemirror_mode": {
    "name": "ipython",
    "version": 3
   },
   "file_extension": ".py",
   "mimetype": "text/x-python",
   "name": "python",
   "nbconvert_exporter": "python",
   "pygments_lexer": "ipython3",
   "version": "3.11.10"
  }
 },
 "nbformat": 4,
 "nbformat_minor": 2
}
