{
 "cells": [
  {
   "cell_type": "code",
   "execution_count": 1,
   "metadata": {},
   "outputs": [],
   "source": [
    "%reload_ext autoreload\n",
    "%autoreload 2"
   ]
  },
  {
   "cell_type": "code",
   "execution_count": 7,
   "metadata": {},
   "outputs": [],
   "source": [
    "import pandas as pd\n",
    "import src.config as config\n",
    "\n",
    "from datetime import datetime\n",
    "\n",
    "from src.inference import (\n",
    "    get_feature_store, \n",
    "    load_batch_of_features_for_inference,\n",
    "    load_model_from_registry,\n",
    "    get_model_predictions,\n",
    "    )\n",
    "\n",
    "backfill_days = 120"
   ]
  },
  {
   "cell_type": "code",
   "execution_count": 8,
   "metadata": {},
   "outputs": [
    {
     "name": "stdout",
     "output_type": "stream",
     "text": [
      "2025-08-17 18:18:39,358 INFO: Closing external client and cleaning up certificates.\n",
      "Connection closed.\n",
      "2025-08-17 18:18:39,381 INFO: Initializing external client\n",
      "2025-08-17 18:18:39,382 INFO: Base URL: https://c.app.hopsworks.ai:443\n",
      "2025-08-17 18:18:40,248 WARNING: UserWarning: The installed hopsworks client version 4.1.2 may not be compatible with the connected Hopsworks backend version 4.2.2. \n",
      "To ensure compatibility please install the latest bug fix release matching the minor version of your backend (4.2) by running 'pip install hopsworks==4.2.*'\n",
      "\n"
     ]
    },
    {
     "name": "stderr",
     "output_type": "stream",
     "text": [
      "\n",
      "\n"
     ]
    },
    {
     "name": "stdout",
     "output_type": "stream",
     "text": [
      "2025-08-17 18:18:41,067 INFO: Python Engine initialized.\n",
      "\n",
      "Logged in to project, explore it here https://c.app.hopsworks.ai:443/p/1051798\n",
      "Finished: Reading data from Hopsworks, using Hopsworks Feature Query Service (1.96s) \n"
     ]
    },
    {
     "data": {
      "text/html": [
       "<div>\n",
       "<style scoped>\n",
       "    .dataframe tbody tr th:only-of-type {\n",
       "        vertical-align: middle;\n",
       "    }\n",
       "\n",
       "    .dataframe tbody tr th {\n",
       "        vertical-align: top;\n",
       "    }\n",
       "\n",
       "    .dataframe thead th {\n",
       "        text-align: right;\n",
       "    }\n",
       "</style>\n",
       "<table border=\"1\" class=\"dataframe\">\n",
       "  <thead>\n",
       "    <tr style=\"text-align: right;\">\n",
       "      <th></th>\n",
       "      <th>datetime</th>\n",
       "      <th>demand</th>\n",
       "      <th>ba_code</th>\n",
       "    </tr>\n",
       "  </thead>\n",
       "  <tbody>\n",
       "    <tr>\n",
       "      <th>9073</th>\n",
       "      <td>2024-04-05</td>\n",
       "      <td>51031.0</td>\n",
       "      <td>AECI</td>\n",
       "    </tr>\n",
       "    <tr>\n",
       "      <th>7522</th>\n",
       "      <td>2024-04-06</td>\n",
       "      <td>48781.0</td>\n",
       "      <td>AECI</td>\n",
       "    </tr>\n",
       "    <tr>\n",
       "      <th>11341</th>\n",
       "      <td>2024-04-07</td>\n",
       "      <td>45064.0</td>\n",
       "      <td>AECI</td>\n",
       "    </tr>\n",
       "    <tr>\n",
       "      <th>10989</th>\n",
       "      <td>2024-04-08</td>\n",
       "      <td>44801.0</td>\n",
       "      <td>AECI</td>\n",
       "    </tr>\n",
       "    <tr>\n",
       "      <th>13337</th>\n",
       "      <td>2024-04-09</td>\n",
       "      <td>42950.0</td>\n",
       "      <td>AECI</td>\n",
       "    </tr>\n",
       "  </tbody>\n",
       "</table>\n",
       "</div>"
      ],
      "text/plain": [
       "        datetime   demand ba_code\n",
       "9073  2024-04-05  51031.0    AECI\n",
       "7522  2024-04-06  48781.0    AECI\n",
       "11341 2024-04-07  45064.0    AECI\n",
       "10989 2024-04-08  44801.0    AECI\n",
       "13337 2024-04-09  42950.0    AECI"
      ]
     },
     "metadata": {},
     "output_type": "display_data"
    },
    {
     "data": {
      "text/html": [
       "<div>\n",
       "<style scoped>\n",
       "    .dataframe tbody tr th:only-of-type {\n",
       "        vertical-align: middle;\n",
       "    }\n",
       "\n",
       "    .dataframe tbody tr th {\n",
       "        vertical-align: top;\n",
       "    }\n",
       "\n",
       "    .dataframe thead th {\n",
       "        text-align: right;\n",
       "    }\n",
       "</style>\n",
       "<table border=\"1\" class=\"dataframe\">\n",
       "  <thead>\n",
       "    <tr style=\"text-align: right;\">\n",
       "      <th></th>\n",
       "      <th>datetime</th>\n",
       "      <th>demand</th>\n",
       "      <th>ba_code</th>\n",
       "    </tr>\n",
       "  </thead>\n",
       "  <tbody>\n",
       "    <tr>\n",
       "      <th>31161</th>\n",
       "      <td>2025-08-11</td>\n",
       "      <td>2284.0</td>\n",
       "      <td>WAUW</td>\n",
       "    </tr>\n",
       "    <tr>\n",
       "      <th>30147</th>\n",
       "      <td>2025-08-12</td>\n",
       "      <td>2473.0</td>\n",
       "      <td>WAUW</td>\n",
       "    </tr>\n",
       "    <tr>\n",
       "      <th>28804</th>\n",
       "      <td>2025-08-13</td>\n",
       "      <td>2588.0</td>\n",
       "      <td>WAUW</td>\n",
       "    </tr>\n",
       "    <tr>\n",
       "      <th>31042</th>\n",
       "      <td>2025-08-14</td>\n",
       "      <td>2431.0</td>\n",
       "      <td>WAUW</td>\n",
       "    </tr>\n",
       "    <tr>\n",
       "      <th>30196</th>\n",
       "      <td>2025-08-15</td>\n",
       "      <td>2349.0</td>\n",
       "      <td>WAUW</td>\n",
       "    </tr>\n",
       "  </tbody>\n",
       "</table>\n",
       "</div>"
      ],
      "text/plain": [
       "        datetime  demand ba_code\n",
       "31161 2025-08-11  2284.0    WAUW\n",
       "30147 2025-08-12  2473.0    WAUW\n",
       "28804 2025-08-13  2588.0    WAUW\n",
       "31042 2025-08-14  2431.0    WAUW\n",
       "30196 2025-08-15  2349.0    WAUW"
      ]
     },
     "metadata": {},
     "output_type": "display_data"
    }
   ],
   "source": [
    "current_date = datetime.now().date()\n",
    "\n",
    "data = load_batch_of_features_for_inference(current_date, backfill_days=backfill_days)\n",
    "display(data.head())\n",
    "display(data.tail())"
   ]
  },
  {
   "cell_type": "code",
   "execution_count": 9,
   "metadata": {},
   "outputs": [
    {
     "name": "stdout",
     "output_type": "stream",
     "text": [
      "2025-08-17 18:18:58,503 INFO: Closing external client and cleaning up certificates.\n",
      "Connection closed.\n",
      "2025-08-17 18:18:58,506 INFO: Initializing external client\n",
      "2025-08-17 18:18:58,506 INFO: Base URL: https://c.app.hopsworks.ai:443\n",
      "2025-08-17 18:18:58,909 WARNING: UserWarning: The installed hopsworks client version 4.1.2 may not be compatible with the connected Hopsworks backend version 4.2.2. \n",
      "To ensure compatibility please install the latest bug fix release matching the minor version of your backend (4.2) by running 'pip install hopsworks==4.2.*'\n",
      "\n"
     ]
    },
    {
     "name": "stderr",
     "output_type": "stream",
     "text": [
      "\n",
      "\n"
     ]
    },
    {
     "name": "stdout",
     "output_type": "stream",
     "text": [
      "2025-08-17 18:18:59,611 INFO: Python Engine initialized.\n",
      "\n",
      "Logged in to project, explore it here https://c.app.hopsworks.ai:443/p/1051798\n",
      "Downloading model artifact (0 dirs, 1 files)... DONE\r"
     ]
    }
   ],
   "source": [
    "model, preprocessing_pipeline = load_model_from_registry()"
   ]
  },
  {
   "cell_type": "code",
   "execution_count": null,
   "metadata": {},
   "outputs": [
    {
     "name": "stdout",
     "output_type": "stream",
     "text": [
      "2025-08-15\n"
     ]
    },
    {
     "data": {
      "text/html": [
       "<div>\n",
       "<style scoped>\n",
       "    .dataframe tbody tr th:only-of-type {\n",
       "        vertical-align: middle;\n",
       "    }\n",
       "\n",
       "    .dataframe tbody tr th {\n",
       "        vertical-align: top;\n",
       "    }\n",
       "\n",
       "    .dataframe thead th {\n",
       "        text-align: right;\n",
       "    }\n",
       "</style>\n",
       "<table border=\"1\" class=\"dataframe\">\n",
       "  <thead>\n",
       "    <tr style=\"text-align: right;\">\n",
       "      <th></th>\n",
       "      <th>ba_code</th>\n",
       "      <th>predicted_demand</th>\n",
       "      <th>datetime</th>\n",
       "    </tr>\n",
       "  </thead>\n",
       "  <tbody>\n",
       "    <tr>\n",
       "      <th>0</th>\n",
       "      <td>AECI</td>\n",
       "      <td>58350.0</td>\n",
       "      <td>2025-04-18</td>\n",
       "    </tr>\n",
       "    <tr>\n",
       "      <th>1</th>\n",
       "      <td>AECI</td>\n",
       "      <td>56613.0</td>\n",
       "      <td>2025-04-19</td>\n",
       "    </tr>\n",
       "    <tr>\n",
       "      <th>2</th>\n",
       "      <td>AECI</td>\n",
       "      <td>56712.0</td>\n",
       "      <td>2025-04-20</td>\n",
       "    </tr>\n",
       "    <tr>\n",
       "      <th>3</th>\n",
       "      <td>AECI</td>\n",
       "      <td>55488.0</td>\n",
       "      <td>2025-04-21</td>\n",
       "    </tr>\n",
       "    <tr>\n",
       "      <th>4</th>\n",
       "      <td>AECI</td>\n",
       "      <td>58880.0</td>\n",
       "      <td>2025-04-22</td>\n",
       "    </tr>\n",
       "  </tbody>\n",
       "</table>\n",
       "</div>"
      ],
      "text/plain": [
       "  ba_code  predicted_demand   datetime\n",
       "0    AECI           58350.0 2025-04-18\n",
       "1    AECI           56613.0 2025-04-19\n",
       "2    AECI           56712.0 2025-04-20\n",
       "3    AECI           55488.0 2025-04-21\n",
       "4    AECI           58880.0 2025-04-22"
      ]
     },
     "execution_count": 10,
     "metadata": {},
     "output_type": "execute_result"
    }
   ],
   "source": [
    "features_end = str(data[\"datetime\"].dt.date.max())\n",
    "print(features_end)\n",
    "\n",
    "predictions = get_model_predictions(\n",
    "    model=model, \n",
    "    preprocessing_pipeline=preprocessing_pipeline, \n",
    "    X=data, \n",
    "    features_end=features_end,\n",
    "    backfill_days=backfill_days,\n",
    "    )\n",
    "predictions.head()"
   ]
  },
  {
   "cell_type": "code",
   "execution_count": 28,
   "metadata": {},
   "outputs": [
    {
     "name": "stdout",
     "output_type": "stream",
     "text": [
      "2025-08-17 18:33:41,167 INFO: Closing external client and cleaning up certificates.\n",
      "Connection closed.\n",
      "2025-08-17 18:33:41,170 INFO: Initializing external client\n",
      "2025-08-17 18:33:41,170 INFO: Base URL: https://c.app.hopsworks.ai:443\n",
      "2025-08-17 18:33:41,556 WARNING: UserWarning: The installed hopsworks client version 4.1.2 may not be compatible with the connected Hopsworks backend version 4.2.2. \n",
      "To ensure compatibility please install the latest bug fix release matching the minor version of your backend (4.2) by running 'pip install hopsworks==4.2.*'\n",
      "\n"
     ]
    },
    {
     "name": "stderr",
     "output_type": "stream",
     "text": [
      "\n",
      "\n"
     ]
    },
    {
     "name": "stdout",
     "output_type": "stream",
     "text": [
      "2025-08-17 18:33:42,282 INFO: Python Engine initialized.\n",
      "\n",
      "Logged in to project, explore it here https://c.app.hopsworks.ai:443/p/1051798\n"
     ]
    }
   ],
   "source": [
    "feature_store = get_feature_store()\n",
    "\n",
    "feature_group_predictions = feature_store.get_or_create_feature_group(\n",
    "    name=config.FEATURE_GROUP_MODEL_PREDICTIONS,\n",
    "    version=config.FEATURE_GROUP_MODEL_PREDICTIONS_VERSION,\n",
    "    description=\"Predictions generated by the model\",\n",
    "    primary_key=[\"ba_code\", \"datetime\"],\n",
    "    event_time=\"datetime\",\n",
    ")"
   ]
  },
  {
   "cell_type": "code",
   "execution_count": 29,
   "metadata": {},
   "outputs": [
    {
     "name": "stderr",
     "output_type": "stream",
     "text": [
      "Uploading Dataframe: 100.00% |██████████| Rows 6413/6413 | Elapsed Time: 00:02 | Remaining Time: 00:00\n"
     ]
    },
    {
     "name": "stdout",
     "output_type": "stream",
     "text": [
      "Launching job: model_predictions_feature_group_1_offline_fg_materialization\n",
      "Job started successfully, you can follow the progress at \n",
      "https://c.app.hopsworks.ai:443/p/1051798/jobs/named/model_predictions_feature_group_1_offline_fg_materialization/executions\n"
     ]
    },
    {
     "data": {
      "text/plain": [
       "(Job('model_predictions_feature_group_1_offline_fg_materialization', 'SPARK'),\n",
       " None)"
      ]
     },
     "execution_count": 29,
     "metadata": {},
     "output_type": "execute_result"
    }
   ],
   "source": [
    "feature_group_predictions.insert(predictions, write_options={\"wait_for_job\": False})"
   ]
  },
  {
   "cell_type": "code",
   "execution_count": null,
   "metadata": {},
   "outputs": [],
   "source": []
  }
 ],
 "metadata": {
  "kernelspec": {
   "display_name": ".venv",
   "language": "python",
   "name": "python3"
  },
  "language_info": {
   "codemirror_mode": {
    "name": "ipython",
    "version": 3
   },
   "file_extension": ".py",
   "mimetype": "text/x-python",
   "name": "python",
   "nbconvert_exporter": "python",
   "pygments_lexer": "ipython3",
   "version": "3.11.10"
  }
 },
 "nbformat": 4,
 "nbformat_minor": 2
}
