{
 "cells": [
  {
   "cell_type": "code",
   "execution_count": 1,
   "metadata": {},
   "outputs": [],
   "source": [
    "import os \n",
    "from dotenv import load_dotenv\n",
    "from src.paths import PARENT_DIR\n",
    "from src.data import download_raw_data, prepare_raw_data_for_feature_store\n",
    "\n",
    "import hopsworks\n",
    "\n",
    "load_dotenv(PARENT_DIR / '.env')\n",
    "HOPSWORKS_API_KEY = os.getenv('HOPSWORKS_API_KEY')\n",
    "HOPSWORKS_PROJECT_NAME = os.getenv('HOPSWORKS_PROJECT_NAME')"
   ]
  },
  {
   "cell_type": "code",
   "execution_count": 2,
   "metadata": {},
   "outputs": [
    {
     "name": "stdout",
     "output_type": "stream",
     "text": [
      "File demand_2022_10.csv exists locally already, try next URL\n",
      "File demand_2022_11.csv exists locally already, try next URL\n",
      "File demand_2022_12.csv exists locally already, try next URL\n",
      "\n",
      "Data for 2022 finished downloading\n",
      "\n",
      "File demand_2023_1.csv exists locally already, try next URL\n",
      "File demand_2023_2.csv exists locally already, try next URL\n",
      "File demand_2023_3.csv exists locally already, try next URL\n",
      "File demand_2023_4.csv exists locally already, try next URL\n",
      "File demand_2023_5.csv exists locally already, try next URL\n",
      "File demand_2023_6.csv exists locally already, try next URL\n",
      "File demand_2023_7.csv exists locally already, try next URL\n",
      "File demand_2023_8.csv exists locally already, try next URL\n",
      "File demand_2023_9.csv exists locally already, try next URL\n",
      "File demand_2023_10.csv exists locally already, try next URL\n",
      "File demand_2023_11.csv exists locally already, try next URL\n",
      "File demand_2023_12.csv exists locally already, try next URL\n",
      "\n",
      "Data for 2023 finished downloading\n",
      "\n",
      "File demand_2024_1.csv exists locally already, try next URL\n",
      "File demand_2024_2.csv exists locally already, try next URL\n",
      "File demand_2024_3.csv exists locally already, try next URL\n",
      "File demand_2024_4.csv exists locally already, try next URL\n",
      "File demand_2024_5.csv exists locally already, try next URL\n",
      "File demand_2024_6.csv exists locally already, try next URL\n",
      "File demand_2024_7.csv exists locally already, try next URL\n",
      "File demand_2024_8.csv exists locally already, try next URL\n",
      "File demand_2024_9.csv exists locally already, try next URL\n",
      "File demand_2024_10.csv exists locally already, try next URL\n",
      "File demand_2024_11.csv exists locally already, try next URL\n",
      "\n",
      "Data for 2024 finished downloading\n",
      "\n"
     ]
    }
   ],
   "source": [
    "year = 2022\n",
    "for month in range(10, 13):\n",
    "    download_raw_data(year, month)\n",
    "\n",
    "print(f\"\\nData for {year} finished downloading\\n\")\n",
    "\n",
    "year = 2023\n",
    "for month in range(1, 13):\n",
    "    download_raw_data(year, month)\n",
    "\n",
    "print(f\"\\nData for {year} finished downloading\\n\")\n",
    "\n",
    "year = 2024\n",
    "for month in range(1, 12):\n",
    "    download_raw_data(year, month)\n",
    "\n",
    "print(f\"\\nData for {year} finished downloading\\n\")"
   ]
  },
  {
   "cell_type": "code",
   "execution_count": 3,
   "metadata": {},
   "outputs": [
    {
     "name": "stderr",
     "output_type": "stream",
     "text": [
      "100%|██████████| 67/67 [00:00<00:00, 303.74it/s]"
     ]
    },
    {
     "name": "stdout",
     "output_type": "stream",
     "text": [
      "Data transformed and saved at /Users/douglaslazenby/Documents/Projects/energy-demand-forecasting/data/transformed/ts_tabular_2022_10_to_2024_11.csv\n"
     ]
    },
    {
     "name": "stderr",
     "output_type": "stream",
     "text": [
      "\n"
     ]
    }
   ],
   "source": [
    "data = prepare_raw_data_for_feature_store()"
   ]
  },
  {
   "cell_type": "code",
   "execution_count": 4,
   "metadata": {},
   "outputs": [
    {
     "data": {
      "text/html": [
       "<div>\n",
       "<style scoped>\n",
       "    .dataframe tbody tr th:only-of-type {\n",
       "        vertical-align: middle;\n",
       "    }\n",
       "\n",
       "    .dataframe tbody tr th {\n",
       "        vertical-align: top;\n",
       "    }\n",
       "\n",
       "    .dataframe thead th {\n",
       "        text-align: right;\n",
       "    }\n",
       "</style>\n",
       "<table border=\"1\" class=\"dataframe\">\n",
       "  <thead>\n",
       "    <tr style=\"text-align: right;\">\n",
       "      <th></th>\n",
       "      <th>datetime</th>\n",
       "      <th>demand</th>\n",
       "      <th>ba_code</th>\n",
       "    </tr>\n",
       "  </thead>\n",
       "  <tbody>\n",
       "    <tr>\n",
       "      <th>0</th>\n",
       "      <td>2022-10-01</td>\n",
       "      <td>51628</td>\n",
       "      <td>AECI</td>\n",
       "    </tr>\n",
       "    <tr>\n",
       "      <th>1</th>\n",
       "      <td>2022-10-02</td>\n",
       "      <td>53127</td>\n",
       "      <td>AECI</td>\n",
       "    </tr>\n",
       "    <tr>\n",
       "      <th>2</th>\n",
       "      <td>2022-10-03</td>\n",
       "      <td>54708</td>\n",
       "      <td>AECI</td>\n",
       "    </tr>\n",
       "    <tr>\n",
       "      <th>3</th>\n",
       "      <td>2022-10-04</td>\n",
       "      <td>53345</td>\n",
       "      <td>AECI</td>\n",
       "    </tr>\n",
       "    <tr>\n",
       "      <th>4</th>\n",
       "      <td>2022-10-05</td>\n",
       "      <td>53356</td>\n",
       "      <td>AECI</td>\n",
       "    </tr>\n",
       "  </tbody>\n",
       "</table>\n",
       "</div>"
      ],
      "text/plain": [
       "    datetime  demand ba_code\n",
       "0 2022-10-01   51628    AECI\n",
       "1 2022-10-02   53127    AECI\n",
       "2 2022-10-03   54708    AECI\n",
       "3 2022-10-04   53345    AECI\n",
       "4 2022-10-05   53356    AECI"
      ]
     },
     "execution_count": 4,
     "metadata": {},
     "output_type": "execute_result"
    }
   ],
   "source": [
    "data.head()"
   ]
  },
  {
   "cell_type": "code",
   "execution_count": 5,
   "metadata": {},
   "outputs": [
    {
     "name": "stdout",
     "output_type": "stream",
     "text": [
      "data.shape=(52997, 3)\n"
     ]
    }
   ],
   "source": [
    "print(f\"{data.shape=}\")"
   ]
  },
  {
   "cell_type": "code",
   "execution_count": 6,
   "metadata": {},
   "outputs": [
    {
     "name": "stdout",
     "output_type": "stream",
     "text": [
      "2024-11-29 14:41:59,190 INFO: Initializing external client\n",
      "2024-11-29 14:41:59,191 INFO: Base URL: https://c.app.hopsworks.ai:443\n",
      "2024-11-29 14:42:00,263 INFO: Python Engine initialized.\n",
      "\n",
      "Logged in to project, explore it here https://c.app.hopsworks.ai:443/p/1051798\n"
     ]
    }
   ],
   "source": [
    "project = hopsworks.login(\n",
    "    project=HOPSWORKS_PROJECT_NAME,\n",
    "    api_key_value=HOPSWORKS_API_KEY,\n",
    ")"
   ]
  },
  {
   "cell_type": "code",
   "execution_count": 7,
   "metadata": {},
   "outputs": [],
   "source": [
    "feature_store = project.get_feature_store()"
   ]
  },
  {
   "cell_type": "code",
   "execution_count": 8,
   "metadata": {},
   "outputs": [],
   "source": [
    "FEATURE_GROUP_NAME = \"daily_demand_feature_group\"\n",
    "FEATURE_GROUP_VERSION = 1"
   ]
  },
  {
   "cell_type": "code",
   "execution_count": 9,
   "metadata": {},
   "outputs": [],
   "source": [
    "feature_group = feature_store.get_or_create_feature_group(\n",
    "    name=FEATURE_GROUP_NAME,\n",
    "    version=FEATURE_GROUP_VERSION,\n",
    "    description=\"Daily demand\",\n",
    "    primary_key=[\"ba_code\", \"datetime\"],\n",
    "    event_time=\"datetime\",\n",
    ")"
   ]
  },
  {
   "cell_type": "code",
   "execution_count": 10,
   "metadata": {},
   "outputs": [
    {
     "name": "stderr",
     "output_type": "stream",
     "text": [
      "Uploading Dataframe: 100.00% |██████████| Rows 52997/52997 | Elapsed Time: 00:03 | Remaining Time: 00:00"
     ]
    },
    {
     "name": "stdout",
     "output_type": "stream",
     "text": [
      "2024-11-29 14:42:18,532 WARNING: FeatureGroupWarning: This is the first ingestion after an upgrade or backup/restore, running materialization job even though `start_offline_materialization` was set to `False`.\n",
      "\n"
     ]
    },
    {
     "name": "stderr",
     "output_type": "stream",
     "text": [
      "\n"
     ]
    },
    {
     "name": "stdout",
     "output_type": "stream",
     "text": [
      "Launching job: daily_demand_feature_group_1_offline_fg_materialization\n",
      "Job started successfully, you can follow the progress at \n",
      "https://c.app.hopsworks.ai:443/p/1051798/jobs/named/daily_demand_feature_group_1_offline_fg_materialization/executions\n",
      "2024-11-29 14:42:27,437 INFO: Materialisation job was not scheduled.\n"
     ]
    },
    {
     "data": {
      "text/plain": [
       "(Job('daily_demand_feature_group_1_offline_fg_materialization', 'SPARK'), None)"
      ]
     },
     "execution_count": 10,
     "metadata": {},
     "output_type": "execute_result"
    }
   ],
   "source": [
    "feature_group.insert(data, write_options={\"wait_for_job\": False})"
   ]
  },
  {
   "cell_type": "code",
   "execution_count": null,
   "metadata": {},
   "outputs": [],
   "source": []
  }
 ],
 "metadata": {
  "kernelspec": {
   "display_name": ".venv",
   "language": "python",
   "name": "python3"
  },
  "language_info": {
   "codemirror_mode": {
    "name": "ipython",
    "version": 3
   },
   "file_extension": ".py",
   "mimetype": "text/x-python",
   "name": "python",
   "nbconvert_exporter": "python",
   "pygments_lexer": "ipython3",
   "version": "3.11.10"
  }
 },
 "nbformat": 4,
 "nbformat_minor": 2
}
