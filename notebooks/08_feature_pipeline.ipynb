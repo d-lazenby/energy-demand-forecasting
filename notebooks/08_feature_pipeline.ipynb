{
 "cells": [
  {
   "cell_type": "code",
   "execution_count": null,
   "metadata": {},
   "outputs": [],
   "source": [
    "from src.config import (\n",
    "    HOPSWORKS_API_KEY, \n",
    "    HOPSWORKS_PROJECT_NAME, \n",
    "    FEATURE_GROUP_NAME, \n",
    "    FEATURE_GROUP_VERSION\n",
    "    )\n",
    "\n",
    "import hopsworks"
   ]
  },
  {
   "cell_type": "code",
   "execution_count": null,
   "metadata": {},
   "outputs": [],
   "source": [
    "from datetime import datetime, timedelta\n",
    "import pandas as pd\n",
    "\n",
    "current_date = datetime.now().date()\n",
    "\n",
    "# Only need one days worth but add redundancy in case fetching fails\n",
    "from_date = current_date - timedelta(days=32)"
   ]
  },
  {
   "cell_type": "code",
   "execution_count": null,
   "metadata": {},
   "outputs": [],
   "source": [
    "from src.data import download_new_batch_of_data, fill_missing_demand_values\n",
    "\n",
    "def fetch_batch_raw_data(from_date: datetime, to_date: datetime) -> pd.DataFrame:\n",
    "    \"\"\"\n",
    "    Downloads raw data between {from_date} and {to_date}.\n",
    "\n",
    "    Args:\n",
    "        from_date: date that we want the data to range from\n",
    "        to_date: date that we want the data to range to\n",
    "\n",
    "    Returns:\n",
    "        Dataframe of demand\n",
    "    \"\"\"\n",
    "    # Download full month\n",
    "    from_batch = download_new_batch_of_data(from_date.year, from_date.month)\n",
    "    # Filter out unwanted rows\n",
    "    from_batch = from_batch[from_batch[\"datetime\"] >= from_date]\n",
    "\n",
    "    # Download full month\n",
    "    to_batch = download_new_batch_of_data(to_date.year, to_date.month)\n",
    "    # Filter out unwanted rows\n",
    "    to_batch = to_batch[to_batch[\"datetime\"] < to_date]\n",
    "\n",
    "    data = pd.concat([from_batch, to_batch])\n",
    "\n",
    "    # To deal with downcasting when filling NaNs\n",
    "    data[\"demand\"] = data[\"demand\"].astype(int)\n",
    "\n",
    "    data = fill_missing_demand_values(data)\n",
    "\n",
    "    data.sort_values(by=[\"ba_code\", \"datetime\"], inplace=True)\n",
    "\n",
    "    return data"
   ]
  },
  {
   "cell_type": "code",
   "execution_count": 42,
   "metadata": {},
   "outputs": [
    {
     "name": "stderr",
     "output_type": "stream",
     "text": [
      "100%|██████████| 67/67 [00:00<00:00, 1098.86it/s]\n"
     ]
    }
   ],
   "source": [
    "data = fetch_batch_raw_data(from_date=from_date, to_date=current_date)"
   ]
  },
  {
   "cell_type": "code",
   "execution_count": 44,
   "metadata": {},
   "outputs": [
    {
     "name": "stdout",
     "output_type": "stream",
     "text": [
      "2024-12-09 16:54:02,965 INFO: Closing external client and cleaning up certificates.\n",
      "Connection closed.\n",
      "2024-12-09 16:54:02,972 INFO: Initializing external client\n",
      "2024-12-09 16:54:02,972 INFO: Base URL: https://c.app.hopsworks.ai:443\n",
      "2024-12-09 16:54:03,922 INFO: Python Engine initialized.\n",
      "\n",
      "Logged in to project, explore it here https://c.app.hopsworks.ai:443/p/1051798\n"
     ]
    }
   ],
   "source": [
    "project = hopsworks.login(\n",
    "    project=HOPSWORKS_PROJECT_NAME,\n",
    "    api_key_value=HOPSWORKS_API_KEY,\n",
    ")\n",
    "\n",
    "feature_store = project.get_feature_store()\n",
    "\n",
    "feature_group = feature_store.get_or_create_feature_group(\n",
    "    name=FEATURE_GROUP_NAME,\n",
    "    version=FEATURE_GROUP_VERSION,\n",
    "    description=\"Daily demand\",\n",
    "    primary_key=[\"ba_code\", \"datetime\"],\n",
    "    event_time=\"datetime\",\n",
    ")"
   ]
  },
  {
   "cell_type": "code",
   "execution_count": 45,
   "metadata": {},
   "outputs": [
    {
     "name": "stderr",
     "output_type": "stream",
     "text": [
      "Uploading Dataframe: 100.00% |██████████| Rows 2144/2144 | Elapsed Time: 00:01 | Remaining Time: 00:00\n"
     ]
    },
    {
     "name": "stdout",
     "output_type": "stream",
     "text": [
      "Launching job: daily_demand_feature_group_1_offline_fg_materialization\n",
      "Job started successfully, you can follow the progress at \n",
      "https://c.app.hopsworks.ai:443/p/1051798/jobs/named/daily_demand_feature_group_1_offline_fg_materialization/executions\n"
     ]
    },
    {
     "data": {
      "text/plain": [
       "(Job('daily_demand_feature_group_1_offline_fg_materialization', 'SPARK'), None)"
      ]
     },
     "execution_count": 45,
     "metadata": {},
     "output_type": "execute_result"
    }
   ],
   "source": [
    "feature_group.insert(data, write_options={\"wait_for_job\": False})"
   ]
  },
  {
   "cell_type": "code",
   "execution_count": null,
   "metadata": {},
   "outputs": [],
   "source": []
  }
 ],
 "metadata": {
  "kernelspec": {
   "display_name": ".venv",
   "language": "python",
   "name": "python3"
  },
  "language_info": {
   "codemirror_mode": {
    "name": "ipython",
    "version": 3
   },
   "file_extension": ".py",
   "mimetype": "text/x-python",
   "name": "python",
   "nbconvert_exporter": "python",
   "pygments_lexer": "ipython3",
   "version": "3.11.10"
  }
 },
 "nbformat": 4,
 "nbformat_minor": 2
}
