{
 "cells": [
  {
   "cell_type": "code",
   "execution_count": 159,
   "metadata": {},
   "outputs": [],
   "source": [
    "%reload_ext autoreload\n",
    "%autoreload 2"
   ]
  },
  {
   "cell_type": "code",
   "execution_count": null,
   "metadata": {},
   "outputs": [],
   "source": [
    "import pandas as pd\n",
    "import src.config as config\n",
    "\n",
    "from datetime import datetime\n",
    "\n",
    "from src.inference import (\n",
    "    get_feature_store, \n",
    "    load_batch_of_features_for_inference,\n",
    "    load_model_from_registry,\n",
    "    get_model_predictions,\n",
    "    )"
   ]
  },
  {
   "cell_type": "code",
   "execution_count": 169,
   "metadata": {},
   "outputs": [
    {
     "name": "stdout",
     "output_type": "stream",
     "text": [
      "2025-03-20 16:32:41,873 INFO: Closing external client and cleaning up certificates.\n",
      "Connection closed.\n",
      "2025-03-20 16:32:41,876 INFO: Initializing external client\n",
      "2025-03-20 16:32:41,876 INFO: Base URL: https://c.app.hopsworks.ai:443\n",
      "2025-03-20 16:32:44,951 INFO: Python Engine initialized.\n",
      "\n",
      "Logged in to project, explore it here https://c.app.hopsworks.ai:443/p/1051798\n",
      "Finished: Reading data from Hopsworks, using Hopsworks Feature Query Service (6.81s) \n"
     ]
    },
    {
     "data": {
      "text/html": [
       "<div>\n",
       "<style scoped>\n",
       "    .dataframe tbody tr th:only-of-type {\n",
       "        vertical-align: middle;\n",
       "    }\n",
       "\n",
       "    .dataframe tbody tr th {\n",
       "        vertical-align: top;\n",
       "    }\n",
       "\n",
       "    .dataframe thead th {\n",
       "        text-align: right;\n",
       "    }\n",
       "</style>\n",
       "<table border=\"1\" class=\"dataframe\">\n",
       "  <thead>\n",
       "    <tr style=\"text-align: right;\">\n",
       "      <th></th>\n",
       "      <th>datetime</th>\n",
       "      <th>demand</th>\n",
       "      <th>ba_code</th>\n",
       "    </tr>\n",
       "  </thead>\n",
       "  <tbody>\n",
       "    <tr>\n",
       "      <th>1878</th>\n",
       "      <td>2024-03-06</td>\n",
       "      <td>47943.0</td>\n",
       "      <td>AECI</td>\n",
       "    </tr>\n",
       "    <tr>\n",
       "      <th>17470</th>\n",
       "      <td>2024-03-07</td>\n",
       "      <td>51039.0</td>\n",
       "      <td>AECI</td>\n",
       "    </tr>\n",
       "    <tr>\n",
       "      <th>4528</th>\n",
       "      <td>2024-03-08</td>\n",
       "      <td>52012.0</td>\n",
       "      <td>AECI</td>\n",
       "    </tr>\n",
       "    <tr>\n",
       "      <th>7874</th>\n",
       "      <td>2024-03-09</td>\n",
       "      <td>56646.0</td>\n",
       "      <td>AECI</td>\n",
       "    </tr>\n",
       "    <tr>\n",
       "      <th>10260</th>\n",
       "      <td>2024-03-10</td>\n",
       "      <td>54399.0</td>\n",
       "      <td>AECI</td>\n",
       "    </tr>\n",
       "  </tbody>\n",
       "</table>\n",
       "</div>"
      ],
      "text/plain": [
       "        datetime   demand ba_code\n",
       "1878  2024-03-06  47943.0    AECI\n",
       "17470 2024-03-07  51039.0    AECI\n",
       "4528  2024-03-08  52012.0    AECI\n",
       "7874  2024-03-09  56646.0    AECI\n",
       "10260 2024-03-10  54399.0    AECI"
      ]
     },
     "metadata": {},
     "output_type": "display_data"
    },
    {
     "data": {
      "text/html": [
       "<div>\n",
       "<style scoped>\n",
       "    .dataframe tbody tr th:only-of-type {\n",
       "        vertical-align: middle;\n",
       "    }\n",
       "\n",
       "    .dataframe tbody tr th {\n",
       "        vertical-align: top;\n",
       "    }\n",
       "\n",
       "    .dataframe thead th {\n",
       "        text-align: right;\n",
       "    }\n",
       "</style>\n",
       "<table border=\"1\" class=\"dataframe\">\n",
       "  <thead>\n",
       "    <tr style=\"text-align: right;\">\n",
       "      <th></th>\n",
       "      <th>datetime</th>\n",
       "      <th>demand</th>\n",
       "      <th>ba_code</th>\n",
       "    </tr>\n",
       "  </thead>\n",
       "  <tbody>\n",
       "    <tr>\n",
       "      <th>25100</th>\n",
       "      <td>2025-03-15</td>\n",
       "      <td>2053.0</td>\n",
       "      <td>WAUW</td>\n",
       "    </tr>\n",
       "    <tr>\n",
       "      <th>25157</th>\n",
       "      <td>2025-03-16</td>\n",
       "      <td>1965.0</td>\n",
       "      <td>WAUW</td>\n",
       "    </tr>\n",
       "    <tr>\n",
       "      <th>25256</th>\n",
       "      <td>2025-03-17</td>\n",
       "      <td>1946.0</td>\n",
       "      <td>WAUW</td>\n",
       "    </tr>\n",
       "    <tr>\n",
       "      <th>25244</th>\n",
       "      <td>2025-03-18</td>\n",
       "      <td>2006.0</td>\n",
       "      <td>WAUW</td>\n",
       "    </tr>\n",
       "    <tr>\n",
       "      <th>25207</th>\n",
       "      <td>2025-03-19</td>\n",
       "      <td>2158.0</td>\n",
       "      <td>WAUW</td>\n",
       "    </tr>\n",
       "  </tbody>\n",
       "</table>\n",
       "</div>"
      ],
      "text/plain": [
       "        datetime  demand ba_code\n",
       "25100 2025-03-15  2053.0    WAUW\n",
       "25157 2025-03-16  1965.0    WAUW\n",
       "25256 2025-03-17  1946.0    WAUW\n",
       "25244 2025-03-18  2006.0    WAUW\n",
       "25207 2025-03-19  2158.0    WAUW"
      ]
     },
     "metadata": {},
     "output_type": "display_data"
    }
   ],
   "source": [
    "current_date = datetime.now().date()\n",
    "\n",
    "data = load_batch_of_features_for_inference(current_date)\n",
    "display(data.head())\n",
    "display(data.tail())"
   ]
  },
  {
   "cell_type": "code",
   "execution_count": 170,
   "metadata": {},
   "outputs": [
    {
     "name": "stdout",
     "output_type": "stream",
     "text": [
      "2025-03-20 16:33:20,322 INFO: Closing external client and cleaning up certificates.\n",
      "Connection closed.\n",
      "2025-03-20 16:33:20,325 INFO: Initializing external client\n",
      "2025-03-20 16:33:20,325 INFO: Base URL: https://c.app.hopsworks.ai:443\n",
      "2025-03-20 16:33:22,055 INFO: Python Engine initialized.\n",
      "\n",
      "Logged in to project, explore it here https://c.app.hopsworks.ai:443/p/1051798\n",
      "Downloading model artifact (0 dirs, 1 files)... DONE\r"
     ]
    }
   ],
   "source": [
    "model, preprocessing_pipeline = load_model_from_registry()"
   ]
  },
  {
   "cell_type": "code",
   "execution_count": 172,
   "metadata": {},
   "outputs": [
    {
     "data": {
      "text/html": [
       "<div>\n",
       "<style scoped>\n",
       "    .dataframe tbody tr th:only-of-type {\n",
       "        vertical-align: middle;\n",
       "    }\n",
       "\n",
       "    .dataframe tbody tr th {\n",
       "        vertical-align: top;\n",
       "    }\n",
       "\n",
       "    .dataframe thead th {\n",
       "        text-align: right;\n",
       "    }\n",
       "</style>\n",
       "<table border=\"1\" class=\"dataframe\">\n",
       "  <thead>\n",
       "    <tr style=\"text-align: right;\">\n",
       "      <th></th>\n",
       "      <th>ba_code</th>\n",
       "      <th>predicted_demand</th>\n",
       "      <th>datetime</th>\n",
       "    </tr>\n",
       "  </thead>\n",
       "  <tbody>\n",
       "    <tr>\n",
       "      <th>0</th>\n",
       "      <td>AECI</td>\n",
       "      <td>61723.0</td>\n",
       "      <td>2025-03-20</td>\n",
       "    </tr>\n",
       "    <tr>\n",
       "      <th>1</th>\n",
       "      <td>AVA</td>\n",
       "      <td>33361.0</td>\n",
       "      <td>2025-03-20</td>\n",
       "    </tr>\n",
       "    <tr>\n",
       "      <th>2</th>\n",
       "      <td>AZPS</td>\n",
       "      <td>67868.0</td>\n",
       "      <td>2025-03-20</td>\n",
       "    </tr>\n",
       "    <tr>\n",
       "      <th>3</th>\n",
       "      <td>BANC</td>\n",
       "      <td>44702.0</td>\n",
       "      <td>2025-03-20</td>\n",
       "    </tr>\n",
       "    <tr>\n",
       "      <th>4</th>\n",
       "      <td>BPAT</td>\n",
       "      <td>143097.0</td>\n",
       "      <td>2025-03-20</td>\n",
       "    </tr>\n",
       "  </tbody>\n",
       "</table>\n",
       "</div>"
      ],
      "text/plain": [
       "  ba_code  predicted_demand   datetime\n",
       "0    AECI           61723.0 2025-03-20\n",
       "1     AVA           33361.0 2025-03-20\n",
       "2    AZPS           67868.0 2025-03-20\n",
       "3    BANC           44702.0 2025-03-20\n",
       "4    BPAT          143097.0 2025-03-20"
      ]
     },
     "execution_count": 172,
     "metadata": {},
     "output_type": "execute_result"
    }
   ],
   "source": [
    "# The features end yesterday\n",
    "features_end = str(current_date - pd.offsets.Day(1))\n",
    "\n",
    "predictions = get_model_predictions(\n",
    "    model=model, \n",
    "    preprocessing_pipeline=preprocessing_pipeline, \n",
    "    X=data, \n",
    "    features_end=features_end,\n",
    "    )\n",
    "predictions.head()"
   ]
  },
  {
   "cell_type": "code",
   "execution_count": null,
   "metadata": {},
   "outputs": [],
   "source": [
    "feature_store = get_feature_store()\n",
    "\n",
    "feature_group_predictions = feature_store.get_or_create_feature_group(\n",
    "    name=config.FEATURE_GROUP_MODEL_PREDICTIONS,\n",
    "    version=config.FEATURE_GROUP_MODEL_PREDICTIONS_VERSION,\n",
    "    description=\"Predictions generated by the model\",\n",
    "    primary_key=[\"ba_code\", \"datetime\"],\n",
    "    event_time=\"datetime\",\n",
    ")"
   ]
  },
  {
   "cell_type": "code",
   "execution_count": 155,
   "metadata": {},
   "outputs": [
    {
     "name": "stdout",
     "output_type": "stream",
     "text": [
      "Feature Group created successfully, explore it at \n",
      "https://c.app.hopsworks.ai:443/p/1051798/fs/1043525/fg/1420834\n"
     ]
    },
    {
     "name": "stderr",
     "output_type": "stream",
     "text": [
      "Uploading Dataframe: 100.00% |██████████| Rows 53/53 | Elapsed Time: 00:01 | Remaining Time: 00:00\n"
     ]
    },
    {
     "name": "stdout",
     "output_type": "stream",
     "text": [
      "Launching job: model_predictions_feature_group_1_offline_fg_materialization\n",
      "Job started successfully, you can follow the progress at \n",
      "https://c.app.hopsworks.ai:443/p/1051798/jobs/named/model_predictions_feature_group_1_offline_fg_materialization/executions\n"
     ]
    },
    {
     "data": {
      "text/plain": [
       "(Job('model_predictions_feature_group_1_offline_fg_materialization', 'SPARK'),\n",
       " None)"
      ]
     },
     "execution_count": 155,
     "metadata": {},
     "output_type": "execute_result"
    }
   ],
   "source": [
    "feature_group_predictions.insert(predictions, write_options={\"wait_for_job\": False})"
   ]
  },
  {
   "cell_type": "code",
   "execution_count": null,
   "metadata": {},
   "outputs": [],
   "source": []
  }
 ],
 "metadata": {
  "kernelspec": {
   "display_name": ".venv",
   "language": "python",
   "name": "python3"
  },
  "language_info": {
   "codemirror_mode": {
    "name": "ipython",
    "version": 3
   },
   "file_extension": ".py",
   "mimetype": "text/x-python",
   "name": "python",
   "nbconvert_exporter": "python",
   "pygments_lexer": "ipython3",
   "version": "3.11.10"
  }
 },
 "nbformat": 4,
 "nbformat_minor": 2
}
