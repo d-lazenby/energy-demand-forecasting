{
 "cells": [
  {
   "cell_type": "code",
   "execution_count": 1,
   "metadata": {},
   "outputs": [],
   "source": [
    "from src.config import HOPSWORKS_API_KEY, HOPSWORKS_PROJECT_NAME\n",
    "from src.data import download_and_save_raw_data, prepare_raw_data_for_feature_store\n",
    "\n",
    "import hopsworks"
   ]
  },
  {
   "cell_type": "code",
   "execution_count": 2,
   "metadata": {},
   "outputs": [
    {
     "name": "stdout",
     "output_type": "stream",
     "text": [
      "File demand_2021_1.csv exists locally already, try next URL\n",
      "File demand_2021_2.csv exists locally already, try next URL\n",
      "File demand_2021_3.csv exists locally already, try next URL\n",
      "File demand_2021_4.csv exists locally already, try next URL\n",
      "File demand_2021_5.csv exists locally already, try next URL\n",
      "File demand_2021_6.csv exists locally already, try next URL\n",
      "File demand_2021_7.csv exists locally already, try next URL\n",
      "File demand_2021_8.csv exists locally already, try next URL\n",
      "File demand_2021_9.csv exists locally already, try next URL\n",
      "File demand_2021_10.csv exists locally already, try next URL\n",
      "File demand_2021_11.csv exists locally already, try next URL\n",
      "File demand_2021_12.csv exists locally already, try next URL\n",
      "\n",
      "Data for 2021 finished downloading\n",
      "\n",
      "File demand_2022_1.csv exists locally already, try next URL\n",
      "File demand_2022_2.csv exists locally already, try next URL\n",
      "File demand_2022_3.csv exists locally already, try next URL\n",
      "File demand_2022_4.csv exists locally already, try next URL\n",
      "File demand_2022_5.csv exists locally already, try next URL\n",
      "File demand_2022_6.csv exists locally already, try next URL\n",
      "File demand_2022_7.csv exists locally already, try next URL\n",
      "File demand_2022_8.csv exists locally already, try next URL\n",
      "File demand_2022_9.csv exists locally already, try next URL\n",
      "File demand_2022_10.csv exists locally already, try next URL\n",
      "File demand_2022_11.csv exists locally already, try next URL\n",
      "File demand_2022_12.csv exists locally already, try next URL\n",
      "\n",
      "Data for 2022 finished downloading\n",
      "\n",
      "File demand_2023_1.csv exists locally already, try next URL\n",
      "File demand_2023_2.csv exists locally already, try next URL\n",
      "File demand_2023_3.csv exists locally already, try next URL\n",
      "File demand_2023_4.csv exists locally already, try next URL\n",
      "File demand_2023_5.csv exists locally already, try next URL\n",
      "File demand_2023_6.csv exists locally already, try next URL\n",
      "File demand_2023_7.csv exists locally already, try next URL\n",
      "File demand_2023_8.csv exists locally already, try next URL\n",
      "File demand_2023_9.csv exists locally already, try next URL\n",
      "File demand_2023_10.csv exists locally already, try next URL\n",
      "File demand_2023_11.csv exists locally already, try next URL\n",
      "File demand_2023_12.csv exists locally already, try next URL\n",
      "\n",
      "Data for 2023 finished downloading\n",
      "\n",
      "File demand_2024_1.csv exists locally already, try next URL\n",
      "File demand_2024_2.csv exists locally already, try next URL\n",
      "File demand_2024_3.csv exists locally already, try next URL\n",
      "File demand_2024_4.csv exists locally already, try next URL\n",
      "File demand_2024_5.csv exists locally already, try next URL\n",
      "File demand_2024_6.csv exists locally already, try next URL\n",
      "File demand_2024_7.csv exists locally already, try next URL\n",
      "File demand_2024_8.csv exists locally already, try next URL\n",
      "File demand_2024_9.csv exists locally already, try next URL\n",
      "File demand_2024_10.csv exists locally already, try next URL\n",
      "File demand_2024_11.csv exists locally already, try next URL\n",
      "File demand_2024_12.csv exists locally already, try next URL\n",
      "\n",
      "Data for 2024 finished downloading\n",
      "\n",
      "File demand_2025_1.csv exists locally already, try next URL\n",
      "File demand_2025_2.csv exists locally already, try next URL\n",
      "\n",
      "Data for 2025 finished downloading\n",
      "\n"
     ]
    }
   ],
   "source": [
    "year = 2021\n",
    "for month in range(1, 13):\n",
    "    download_and_save_raw_data(year, month)\n",
    "\n",
    "print(f\"\\nData for {year} finished downloading\\n\")\n",
    "\n",
    "\n",
    "year = 2022\n",
    "for month in range(1, 13):\n",
    "    download_and_save_raw_data(year, month)\n",
    "\n",
    "print(f\"\\nData for {year} finished downloading\\n\")\n",
    "\n",
    "year = 2023\n",
    "for month in range(1, 13):\n",
    "    download_and_save_raw_data(year, month)\n",
    "\n",
    "print(f\"\\nData for {year} finished downloading\\n\")\n",
    "\n",
    "year = 2024\n",
    "for month in range(1, 13):\n",
    "    download_and_save_raw_data(year, month)\n",
    "\n",
    "print(f\"\\nData for {year} finished downloading\\n\")\n",
    "\n",
    "year = 2025\n",
    "for month in range(1, 3):\n",
    "    download_and_save_raw_data(year, month)\n",
    "\n",
    "print(f\"\\nData for {year} finished downloading\\n\")"
   ]
  },
  {
   "cell_type": "code",
   "execution_count": 3,
   "metadata": {},
   "outputs": [
    {
     "name": "stderr",
     "output_type": "stream",
     "text": [
      "100%|██████████| 68/68 [00:00<00:00, 149.32it/s]\n"
     ]
    },
    {
     "name": "stdout",
     "output_type": "stream",
     "text": [
      "Data transformed and saved at /Users/douglaslazenby/Documents/Projects/energy-demand-forecasting/data/transformed/ts_tabular_2020_12_to_2025_2.csv\n"
     ]
    }
   ],
   "source": [
    "data = prepare_raw_data_for_feature_store()"
   ]
  },
  {
   "cell_type": "code",
   "execution_count": 4,
   "metadata": {},
   "outputs": [
    {
     "data": {
      "text/html": [
       "<div>\n",
       "<style scoped>\n",
       "    .dataframe tbody tr th:only-of-type {\n",
       "        vertical-align: middle;\n",
       "    }\n",
       "\n",
       "    .dataframe tbody tr th {\n",
       "        vertical-align: top;\n",
       "    }\n",
       "\n",
       "    .dataframe thead th {\n",
       "        text-align: right;\n",
       "    }\n",
       "</style>\n",
       "<table border=\"1\" class=\"dataframe\">\n",
       "  <thead>\n",
       "    <tr style=\"text-align: right;\">\n",
       "      <th></th>\n",
       "      <th>datetime</th>\n",
       "      <th>demand</th>\n",
       "      <th>ba_code</th>\n",
       "    </tr>\n",
       "  </thead>\n",
       "  <tbody>\n",
       "    <tr>\n",
       "      <th>0</th>\n",
       "      <td>2020-12-01</td>\n",
       "      <td>75397</td>\n",
       "      <td>AECI</td>\n",
       "    </tr>\n",
       "    <tr>\n",
       "      <th>1</th>\n",
       "      <td>2020-12-02</td>\n",
       "      <td>71967</td>\n",
       "      <td>AECI</td>\n",
       "    </tr>\n",
       "    <tr>\n",
       "      <th>2</th>\n",
       "      <td>2020-12-03</td>\n",
       "      <td>69654</td>\n",
       "      <td>AECI</td>\n",
       "    </tr>\n",
       "    <tr>\n",
       "      <th>3</th>\n",
       "      <td>2020-12-04</td>\n",
       "      <td>67352</td>\n",
       "      <td>AECI</td>\n",
       "    </tr>\n",
       "    <tr>\n",
       "      <th>4</th>\n",
       "      <td>2020-12-05</td>\n",
       "      <td>65905</td>\n",
       "      <td>AECI</td>\n",
       "    </tr>\n",
       "  </tbody>\n",
       "</table>\n",
       "</div>"
      ],
      "text/plain": [
       "    datetime  demand ba_code\n",
       "0 2020-12-01   75397    AECI\n",
       "1 2020-12-02   71967    AECI\n",
       "2 2020-12-03   69654    AECI\n",
       "3 2020-12-04   67352    AECI\n",
       "4 2020-12-05   65905    AECI"
      ]
     },
     "metadata": {},
     "output_type": "display_data"
    },
    {
     "data": {
      "text/html": [
       "<div>\n",
       "<style scoped>\n",
       "    .dataframe tbody tr th:only-of-type {\n",
       "        vertical-align: middle;\n",
       "    }\n",
       "\n",
       "    .dataframe tbody tr th {\n",
       "        vertical-align: top;\n",
       "    }\n",
       "\n",
       "    .dataframe thead th {\n",
       "        text-align: right;\n",
       "    }\n",
       "</style>\n",
       "<table border=\"1\" class=\"dataframe\">\n",
       "  <thead>\n",
       "    <tr style=\"text-align: right;\">\n",
       "      <th></th>\n",
       "      <th>datetime</th>\n",
       "      <th>demand</th>\n",
       "      <th>ba_code</th>\n",
       "    </tr>\n",
       "  </thead>\n",
       "  <tbody>\n",
       "    <tr>\n",
       "      <th>105327</th>\n",
       "      <td>2025-02-22</td>\n",
       "      <td>-1</td>\n",
       "      <td>AEC</td>\n",
       "    </tr>\n",
       "    <tr>\n",
       "      <th>105328</th>\n",
       "      <td>2025-02-23</td>\n",
       "      <td>-1</td>\n",
       "      <td>AEC</td>\n",
       "    </tr>\n",
       "    <tr>\n",
       "      <th>105329</th>\n",
       "      <td>2025-02-24</td>\n",
       "      <td>-1</td>\n",
       "      <td>AEC</td>\n",
       "    </tr>\n",
       "    <tr>\n",
       "      <th>105330</th>\n",
       "      <td>2025-02-25</td>\n",
       "      <td>-1</td>\n",
       "      <td>AEC</td>\n",
       "    </tr>\n",
       "    <tr>\n",
       "      <th>105331</th>\n",
       "      <td>2025-02-26</td>\n",
       "      <td>-1</td>\n",
       "      <td>AEC</td>\n",
       "    </tr>\n",
       "  </tbody>\n",
       "</table>\n",
       "</div>"
      ],
      "text/plain": [
       "         datetime  demand ba_code\n",
       "105327 2025-02-22      -1     AEC\n",
       "105328 2025-02-23      -1     AEC\n",
       "105329 2025-02-24      -1     AEC\n",
       "105330 2025-02-25      -1     AEC\n",
       "105331 2025-02-26      -1     AEC"
      ]
     },
     "metadata": {},
     "output_type": "display_data"
    }
   ],
   "source": [
    "display(data.head())\n",
    "display(data.tail())"
   ]
  },
  {
   "cell_type": "code",
   "execution_count": 5,
   "metadata": {},
   "outputs": [
    {
     "name": "stdout",
     "output_type": "stream",
     "text": [
      "data.shape=(105332, 3)\n"
     ]
    }
   ],
   "source": [
    "print(f\"{data.shape=}\")"
   ]
  },
  {
   "cell_type": "code",
   "execution_count": null,
   "metadata": {},
   "outputs": [],
   "source": [
    "from src.config import BAS\n",
    "\n",
    "# Only add data for BAs we'll use\n",
    "data = data[data[\"ba_code\"].isin(BAS)]"
   ]
  },
  {
   "cell_type": "code",
   "execution_count": 7,
   "metadata": {},
   "outputs": [
    {
     "name": "stdout",
     "output_type": "stream",
     "text": [
      "2025-03-07 15:29:49,394 INFO: Initializing external client\n",
      "2025-03-07 15:29:49,395 INFO: Base URL: https://c.app.hopsworks.ai:443\n",
      "2025-03-07 15:29:50,584 INFO: Python Engine initialized.\n",
      "\n",
      "Logged in to project, explore it here https://c.app.hopsworks.ai:443/p/1051798\n"
     ]
    }
   ],
   "source": [
    "project = hopsworks.login(\n",
    "    project=HOPSWORKS_PROJECT_NAME,\n",
    "    api_key_value=HOPSWORKS_API_KEY,\n",
    ")"
   ]
  },
  {
   "cell_type": "code",
   "execution_count": 8,
   "metadata": {},
   "outputs": [],
   "source": [
    "feature_store = project.get_feature_store()"
   ]
  },
  {
   "cell_type": "code",
   "execution_count": null,
   "metadata": {},
   "outputs": [],
   "source": [
    "FEATURE_GROUP_NAME = \"daily_demand_feature_group\"\n",
    "FEATURE_GROUP_VERSION = 1"
   ]
  },
  {
   "cell_type": "code",
   "execution_count": 10,
   "metadata": {},
   "outputs": [],
   "source": [
    "feature_group = feature_store.get_or_create_feature_group(\n",
    "    name=FEATURE_GROUP_NAME,\n",
    "    version=FEATURE_GROUP_VERSION,\n",
    "    description=\"Daily demand\",\n",
    "    primary_key=[\"ba_code\", \"datetime\"],\n",
    "    event_time=\"datetime\",\n",
    ")"
   ]
  },
  {
   "cell_type": "code",
   "execution_count": 11,
   "metadata": {},
   "outputs": [
    {
     "name": "stderr",
     "output_type": "stream",
     "text": [
      "Uploading Dataframe: 100.00% |██████████| Rows 82097/82097 | Elapsed Time: 00:04 | Remaining Time: 00:00\n"
     ]
    },
    {
     "name": "stdout",
     "output_type": "stream",
     "text": [
      "Launching job: daily_demand_feature_group_1_offline_fg_materialization\n",
      "Job started successfully, you can follow the progress at \n",
      "https://c.app.hopsworks.ai:443/p/1051798/jobs/named/daily_demand_feature_group_1_offline_fg_materialization/executions\n"
     ]
    },
    {
     "data": {
      "text/plain": [
       "(Job('daily_demand_feature_group_1_offline_fg_materialization', 'SPARK'), None)"
      ]
     },
     "execution_count": 11,
     "metadata": {},
     "output_type": "execute_result"
    }
   ],
   "source": [
    "feature_group.insert(data, write_options={\"wait_for_job\": False})"
   ]
  },
  {
   "cell_type": "code",
   "execution_count": null,
   "metadata": {},
   "outputs": [],
   "source": []
  }
 ],
 "metadata": {
  "kernelspec": {
   "display_name": ".venv",
   "language": "python",
   "name": "python3"
  },
  "language_info": {
   "codemirror_mode": {
    "name": "ipython",
    "version": 3
   },
   "file_extension": ".py",
   "mimetype": "text/x-python",
   "name": "python",
   "nbconvert_exporter": "python",
   "pygments_lexer": "ipython3",
   "version": "3.11.10"
  }
 },
 "nbformat": 4,
 "nbformat_minor": 2
}
