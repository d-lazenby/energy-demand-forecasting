{
 "cells": [
  {
   "cell_type": "code",
   "execution_count": 159,
   "metadata": {},
   "outputs": [],
   "source": [
    "%reload_ext autoreload\n",
    "%autoreload 2"
   ]
  },
  {
   "cell_type": "code",
   "execution_count": 168,
   "metadata": {},
   "outputs": [],
   "source": [
    "import pandas as pd\n",
    "import hopsworks\n",
    "import src.config as config\n",
    "\n",
    "from pathlib import Path\n",
    "from datetime import datetime, timedelta\n",
    "from typing import Tuple\n",
    "\n",
    "from sklearn.base import BaseEstimator\n",
    "from sklearn.pipeline import Pipeline\n",
    "\n",
    "from src.paths import PARENT_DIR\n",
    "from src.data import prepare_feature_store_data_for_training\n",
    "from src.inference import (\n",
    "    get_hopsworks_project,\n",
    "    get_feature_store, \n",
    "    load_batch_of_features_for_inference,\n",
    "    load_model_from_registry,\n",
    "    get_model_predictions,\n",
    "    )"
   ]
  },
  {
   "cell_type": "code",
   "execution_count": null,
   "metadata": {},
   "outputs": [
    {
     "name": "stdout",
     "output_type": "stream",
     "text": [
      "2025-03-20 16:10:26,315 INFO: Closing external client and cleaning up certificates.\n",
      "Connection closed.\n",
      "2025-03-20 16:10:26,320 INFO: Initializing external client\n",
      "2025-03-20 16:10:26,320 INFO: Base URL: https://c.app.hopsworks.ai:443\n",
      "2025-03-20 16:10:27,447 INFO: Python Engine initialized.\n",
      "\n",
      "Logged in to project, explore it here https://c.app.hopsworks.ai:443/p/1051798\n"
     ]
    }
   ],
   "source": [
    "# \"\"\"\n",
    "# TODO: Wrap these into a function, get_feature_view()\n",
    "# \"\"\"\n",
    "\n",
    "# # connect to project\n",
    "# project = hopsworks.login(\n",
    "#     project=config.HOPSWORKS_PROJECT_NAME,\n",
    "#     api_key_value=config.HOPSWORKS_API_KEY,\n",
    "# )\n",
    "\n",
    "# # connect to feature store\n",
    "# feature_store = project.get_feature_store()\n",
    "\n",
    "# feature_view = feature_store.get_feature_view(\n",
    "#     name=config.FEATURE_VIEW_NAME, \n",
    "#     version=config.FEATURE_VIEW_VERSION\n",
    "# )"
   ]
  },
  {
   "cell_type": "code",
   "execution_count": null,
   "metadata": {},
   "outputs": [],
   "source": [
    "# def load_batch_of_features_for_inference(current_date: str) -> pd.DataFrame:\n",
    "#     \"\"\"\n",
    "#     Loads a batch of features from the Hopsworks feature store.\n",
    "    \n",
    "#     Args:\n",
    "#         current_date: \n",
    "#     \"\"\"\n",
    "    \n",
    "#     # Adding some padding so that we don't lose any data\n",
    "#     to_date = current_date + timedelta(days=2)\n",
    "#     from_date = current_date - timedelta(days=config.DAYS_HISTORICAL + 14)\n",
    "\n",
    "#     data = feature_view.get_batch_data(\n",
    "#         start_time=from_date, \n",
    "#         end_time=to_date,\n",
    "#         )\n",
    "\n",
    "#     return prepare_feature_store_data_for_training(data)\n",
    "\n",
    "\n",
    "# def load_model_from_registry(\n",
    "#     hopsworks_model_dir: str = \"models\", \n",
    "#     pipeline_name: str = \"preprocessing_pipeline\",\n",
    "#     model_name: str = \"lgbm\"\n",
    "#     ) -> Tuple[BaseEstimator, Pipeline]:\n",
    "#     \"\"\"\n",
    "#     Loads saved model files from the Hopsworks model registry. \n",
    "    \n",
    "#     Args:\n",
    "#         hopsworks_model_dir: name of folder holding the model artifact\n",
    "#         pipeline_name: name of pickled preprocessing pipeline\n",
    "#         model_name: name of pickled trained model\n",
    "        \n",
    "#     Returns:\n",
    "#         (model, preprocessing_pipeline)\n",
    "#     \"\"\"\n",
    "\n",
    "#     import shutil\n",
    "#     import os\n",
    "#     import joblib\n",
    "\n",
    "#     model_registry = project.get_model_registry()\n",
    "#     model_files = model_registry.get_model(\n",
    "#     name=config.MODEL_NAME,\n",
    "#     version=config.MODEL_VERSION,\n",
    "#     )\n",
    "\n",
    "#     model_dir = model_files.download()\n",
    "\n",
    "#     filepath = Path(model_dir) / f\"{hopsworks_model_dir}.zip\"\n",
    "#     extract_dir = PARENT_DIR / \"downloaded_model_bundle\"\n",
    "#     if not extract_dir.exists():\n",
    "#         os.mkdir(extract_dir)\n",
    "\n",
    "#     shutil.unpack_archive(filepath, extract_dir)\n",
    "\n",
    "#     preprocessing_pipeline = joblib.load(extract_dir / f\"{pipeline_name}.pkl\")\n",
    "#     model = joblib.load(extract_dir / f\"{model_name}.pkl\")\n",
    "    \n",
    "#     return model, preprocessing_pipeline\n",
    "\n",
    "\n",
    "# def get_model_predictions(model: BaseEstimator, \n",
    "#                           preprocessing_pipeline: Pipeline, \n",
    "#                           X: pd.DataFrame, \n",
    "#                           features_end: str) -> pd.DataFrame:\n",
    "#     \"\"\"\n",
    "#     Uses {model} to make predictions of daily demand for the day after {features_end}\n",
    "#     using features {X}.\n",
    "\n",
    "#     Args:\n",
    "#         model: a fitted SKLearn model\n",
    "#         preprocessing pipeline: the pipeline used to train {model}\n",
    "#         X: the features for inference\n",
    "#         features_end: the date corresponding to the day before the prediction date,\n",
    "#             in format, e.g., '2025-03-15'\n",
    "\n",
    "#     Returns:\n",
    "#         A dataframe holding the predictions.\n",
    "\n",
    "#         Columns:\n",
    "#             ba_code: str\n",
    "#             predicted_demand: float64\n",
    "#             datetime: datetime64\n",
    "#     \"\"\"\n",
    "#     features_end = pd.Timestamp(features_end)\n",
    "#     features_start = features_end - pd.offsets.Day(config.DAYS_HISTORICAL)\n",
    "\n",
    "#     # Filter to appropriate date range\n",
    "#     inference_data = X.loc[\n",
    "#         (X[\"datetime\"] <= features_end) & (X[\"datetime\"] >= features_start)\n",
    "#     ].copy()\n",
    "\n",
    "#     # Transform data with fitted pipeline\n",
    "#     inference_data_t = preprocessing_pipeline.transform(inference_data)\n",
    "\n",
    "#     predictions = model.predict(inference_data_t)\n",
    "\n",
    "#     ba_codes = inference_data['ba_code'].unique()\n",
    "\n",
    "#     predictions_df = pd.DataFrame(\n",
    "#         {\"ba_code\": ba_codes, \"predicted_demand\": predictions}\n",
    "#     )\n",
    "    \n",
    "#     # Predictions are for the day after {features_end} \n",
    "#     predictions_df[\"datetime\"] = features_end + pd.offsets.Day(1)\n",
    "    \n",
    "#     return predictions_df.round()"
   ]
  },
  {
   "cell_type": "code",
   "execution_count": 169,
   "metadata": {},
   "outputs": [
    {
     "name": "stdout",
     "output_type": "stream",
     "text": [
      "2025-03-20 16:32:41,873 INFO: Closing external client and cleaning up certificates.\n",
      "Connection closed.\n",
      "2025-03-20 16:32:41,876 INFO: Initializing external client\n",
      "2025-03-20 16:32:41,876 INFO: Base URL: https://c.app.hopsworks.ai:443\n",
      "2025-03-20 16:32:44,951 INFO: Python Engine initialized.\n",
      "\n",
      "Logged in to project, explore it here https://c.app.hopsworks.ai:443/p/1051798\n",
      "Finished: Reading data from Hopsworks, using Hopsworks Feature Query Service (6.81s) \n"
     ]
    },
    {
     "data": {
      "text/html": [
       "<div>\n",
       "<style scoped>\n",
       "    .dataframe tbody tr th:only-of-type {\n",
       "        vertical-align: middle;\n",
       "    }\n",
       "\n",
       "    .dataframe tbody tr th {\n",
       "        vertical-align: top;\n",
       "    }\n",
       "\n",
       "    .dataframe thead th {\n",
       "        text-align: right;\n",
       "    }\n",
       "</style>\n",
       "<table border=\"1\" class=\"dataframe\">\n",
       "  <thead>\n",
       "    <tr style=\"text-align: right;\">\n",
       "      <th></th>\n",
       "      <th>datetime</th>\n",
       "      <th>demand</th>\n",
       "      <th>ba_code</th>\n",
       "    </tr>\n",
       "  </thead>\n",
       "  <tbody>\n",
       "    <tr>\n",
       "      <th>1878</th>\n",
       "      <td>2024-03-06</td>\n",
       "      <td>47943.0</td>\n",
       "      <td>AECI</td>\n",
       "    </tr>\n",
       "    <tr>\n",
       "      <th>17470</th>\n",
       "      <td>2024-03-07</td>\n",
       "      <td>51039.0</td>\n",
       "      <td>AECI</td>\n",
       "    </tr>\n",
       "    <tr>\n",
       "      <th>4528</th>\n",
       "      <td>2024-03-08</td>\n",
       "      <td>52012.0</td>\n",
       "      <td>AECI</td>\n",
       "    </tr>\n",
       "    <tr>\n",
       "      <th>7874</th>\n",
       "      <td>2024-03-09</td>\n",
       "      <td>56646.0</td>\n",
       "      <td>AECI</td>\n",
       "    </tr>\n",
       "    <tr>\n",
       "      <th>10260</th>\n",
       "      <td>2024-03-10</td>\n",
       "      <td>54399.0</td>\n",
       "      <td>AECI</td>\n",
       "    </tr>\n",
       "  </tbody>\n",
       "</table>\n",
       "</div>"
      ],
      "text/plain": [
       "        datetime   demand ba_code\n",
       "1878  2024-03-06  47943.0    AECI\n",
       "17470 2024-03-07  51039.0    AECI\n",
       "4528  2024-03-08  52012.0    AECI\n",
       "7874  2024-03-09  56646.0    AECI\n",
       "10260 2024-03-10  54399.0    AECI"
      ]
     },
     "metadata": {},
     "output_type": "display_data"
    },
    {
     "data": {
      "text/html": [
       "<div>\n",
       "<style scoped>\n",
       "    .dataframe tbody tr th:only-of-type {\n",
       "        vertical-align: middle;\n",
       "    }\n",
       "\n",
       "    .dataframe tbody tr th {\n",
       "        vertical-align: top;\n",
       "    }\n",
       "\n",
       "    .dataframe thead th {\n",
       "        text-align: right;\n",
       "    }\n",
       "</style>\n",
       "<table border=\"1\" class=\"dataframe\">\n",
       "  <thead>\n",
       "    <tr style=\"text-align: right;\">\n",
       "      <th></th>\n",
       "      <th>datetime</th>\n",
       "      <th>demand</th>\n",
       "      <th>ba_code</th>\n",
       "    </tr>\n",
       "  </thead>\n",
       "  <tbody>\n",
       "    <tr>\n",
       "      <th>25100</th>\n",
       "      <td>2025-03-15</td>\n",
       "      <td>2053.0</td>\n",
       "      <td>WAUW</td>\n",
       "    </tr>\n",
       "    <tr>\n",
       "      <th>25157</th>\n",
       "      <td>2025-03-16</td>\n",
       "      <td>1965.0</td>\n",
       "      <td>WAUW</td>\n",
       "    </tr>\n",
       "    <tr>\n",
       "      <th>25256</th>\n",
       "      <td>2025-03-17</td>\n",
       "      <td>1946.0</td>\n",
       "      <td>WAUW</td>\n",
       "    </tr>\n",
       "    <tr>\n",
       "      <th>25244</th>\n",
       "      <td>2025-03-18</td>\n",
       "      <td>2006.0</td>\n",
       "      <td>WAUW</td>\n",
       "    </tr>\n",
       "    <tr>\n",
       "      <th>25207</th>\n",
       "      <td>2025-03-19</td>\n",
       "      <td>2158.0</td>\n",
       "      <td>WAUW</td>\n",
       "    </tr>\n",
       "  </tbody>\n",
       "</table>\n",
       "</div>"
      ],
      "text/plain": [
       "        datetime  demand ba_code\n",
       "25100 2025-03-15  2053.0    WAUW\n",
       "25157 2025-03-16  1965.0    WAUW\n",
       "25256 2025-03-17  1946.0    WAUW\n",
       "25244 2025-03-18  2006.0    WAUW\n",
       "25207 2025-03-19  2158.0    WAUW"
      ]
     },
     "metadata": {},
     "output_type": "display_data"
    }
   ],
   "source": [
    "current_date = datetime.now().date()\n",
    "\n",
    "data = load_batch_of_features_for_inference(current_date)\n",
    "display(data.head())\n",
    "display(data.tail())"
   ]
  },
  {
   "cell_type": "code",
   "execution_count": 170,
   "metadata": {},
   "outputs": [
    {
     "name": "stdout",
     "output_type": "stream",
     "text": [
      "2025-03-20 16:33:20,322 INFO: Closing external client and cleaning up certificates.\n",
      "Connection closed.\n",
      "2025-03-20 16:33:20,325 INFO: Initializing external client\n",
      "2025-03-20 16:33:20,325 INFO: Base URL: https://c.app.hopsworks.ai:443\n",
      "2025-03-20 16:33:22,055 INFO: Python Engine initialized.\n",
      "\n",
      "Logged in to project, explore it here https://c.app.hopsworks.ai:443/p/1051798\n",
      "Downloading model artifact (0 dirs, 1 files)... DONE\r"
     ]
    }
   ],
   "source": [
    "model, preprocessing_pipeline = load_model_from_registry()"
   ]
  },
  {
   "cell_type": "code",
   "execution_count": 172,
   "metadata": {},
   "outputs": [
    {
     "data": {
      "text/html": [
       "<div>\n",
       "<style scoped>\n",
       "    .dataframe tbody tr th:only-of-type {\n",
       "        vertical-align: middle;\n",
       "    }\n",
       "\n",
       "    .dataframe tbody tr th {\n",
       "        vertical-align: top;\n",
       "    }\n",
       "\n",
       "    .dataframe thead th {\n",
       "        text-align: right;\n",
       "    }\n",
       "</style>\n",
       "<table border=\"1\" class=\"dataframe\">\n",
       "  <thead>\n",
       "    <tr style=\"text-align: right;\">\n",
       "      <th></th>\n",
       "      <th>ba_code</th>\n",
       "      <th>predicted_demand</th>\n",
       "      <th>datetime</th>\n",
       "    </tr>\n",
       "  </thead>\n",
       "  <tbody>\n",
       "    <tr>\n",
       "      <th>0</th>\n",
       "      <td>AECI</td>\n",
       "      <td>61723.0</td>\n",
       "      <td>2025-03-20</td>\n",
       "    </tr>\n",
       "    <tr>\n",
       "      <th>1</th>\n",
       "      <td>AVA</td>\n",
       "      <td>33361.0</td>\n",
       "      <td>2025-03-20</td>\n",
       "    </tr>\n",
       "    <tr>\n",
       "      <th>2</th>\n",
       "      <td>AZPS</td>\n",
       "      <td>67868.0</td>\n",
       "      <td>2025-03-20</td>\n",
       "    </tr>\n",
       "    <tr>\n",
       "      <th>3</th>\n",
       "      <td>BANC</td>\n",
       "      <td>44702.0</td>\n",
       "      <td>2025-03-20</td>\n",
       "    </tr>\n",
       "    <tr>\n",
       "      <th>4</th>\n",
       "      <td>BPAT</td>\n",
       "      <td>143097.0</td>\n",
       "      <td>2025-03-20</td>\n",
       "    </tr>\n",
       "  </tbody>\n",
       "</table>\n",
       "</div>"
      ],
      "text/plain": [
       "  ba_code  predicted_demand   datetime\n",
       "0    AECI           61723.0 2025-03-20\n",
       "1     AVA           33361.0 2025-03-20\n",
       "2    AZPS           67868.0 2025-03-20\n",
       "3    BANC           44702.0 2025-03-20\n",
       "4    BPAT          143097.0 2025-03-20"
      ]
     },
     "execution_count": 172,
     "metadata": {},
     "output_type": "execute_result"
    }
   ],
   "source": [
    "# The features end yesterday\n",
    "features_end = str(current_date - pd.offsets.Day(1))\n",
    "\n",
    "predictions = get_model_predictions(\n",
    "    model=model, \n",
    "    preprocessing_pipeline=preprocessing_pipeline, \n",
    "    X=data, \n",
    "    features_end=features_end,\n",
    "    )\n",
    "predictions.head()"
   ]
  },
  {
   "cell_type": "code",
   "execution_count": null,
   "metadata": {},
   "outputs": [],
   "source": [
    "feature_store = get_feature_store()\n",
    "\n",
    "feature_group_predictions = feature_store.get_or_create_feature_group(\n",
    "    name=config.FEATURE_GROUP_MODEL_PREDICTIONS,\n",
    "    version=config.FEATURE_GROUP_MODEL_PREDICTIONS_VERSION,\n",
    "    description=\"Predictions generated by the model\",\n",
    "    primary_key=[\"ba_code\", \"datetime\"],\n",
    "    event_time=\"datetime\",\n",
    ")"
   ]
  },
  {
   "cell_type": "code",
   "execution_count": 155,
   "metadata": {},
   "outputs": [
    {
     "name": "stdout",
     "output_type": "stream",
     "text": [
      "Feature Group created successfully, explore it at \n",
      "https://c.app.hopsworks.ai:443/p/1051798/fs/1043525/fg/1420834\n"
     ]
    },
    {
     "name": "stderr",
     "output_type": "stream",
     "text": [
      "Uploading Dataframe: 100.00% |██████████| Rows 53/53 | Elapsed Time: 00:01 | Remaining Time: 00:00\n"
     ]
    },
    {
     "name": "stdout",
     "output_type": "stream",
     "text": [
      "Launching job: model_predictions_feature_group_1_offline_fg_materialization\n",
      "Job started successfully, you can follow the progress at \n",
      "https://c.app.hopsworks.ai:443/p/1051798/jobs/named/model_predictions_feature_group_1_offline_fg_materialization/executions\n"
     ]
    },
    {
     "data": {
      "text/plain": [
       "(Job('model_predictions_feature_group_1_offline_fg_materialization', 'SPARK'),\n",
       " None)"
      ]
     },
     "execution_count": 155,
     "metadata": {},
     "output_type": "execute_result"
    }
   ],
   "source": [
    "feature_group_predictions.insert(predictions, write_options={\"wait_for_job\": False})"
   ]
  },
  {
   "cell_type": "code",
   "execution_count": null,
   "metadata": {},
   "outputs": [],
   "source": []
  }
 ],
 "metadata": {
  "kernelspec": {
   "display_name": ".venv",
   "language": "python",
   "name": "python3"
  },
  "language_info": {
   "codemirror_mode": {
    "name": "ipython",
    "version": 3
   },
   "file_extension": ".py",
   "mimetype": "text/x-python",
   "name": "python",
   "nbconvert_exporter": "python",
   "pygments_lexer": "ipython3",
   "version": "3.11.10"
  }
 },
 "nbformat": 4,
 "nbformat_minor": 2
}
